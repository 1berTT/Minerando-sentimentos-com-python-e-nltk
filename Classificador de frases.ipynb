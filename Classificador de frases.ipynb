{
 "cells": [
  {
   "cell_type": "code",
   "execution_count": 1,
   "metadata": {},
   "outputs": [],
   "source": [
    "import nltk as nltk #Importações necessárias para fazer uso do nltk\n",
    "from nltk.metrics import ConfusionMatrix"
   ]
  },
  {
   "cell_type": "code",
   "execution_count": 6,
   "metadata": {},
   "outputs": [],
   "source": [
    "#Aqui se encontra a base de dados usada no projeto\n",
    "basetreinamento = [\n",
    "('você e abominável','desgosto'),\n",
    "('abomino a maneira como você age','desgosto'),\n",
    "('estou adoentado','desgosto'),\n",
    "('meu pai esta adoentado','desgosto'),\n",
    "('estamos todos doentes','desgosto'),\n",
    "('essa situação e muito amarga','desgosto'),\n",
    "('disse adeus amargamente','desgosto'),\n",
    "('tenho antipatia por aquela pessoa','desgosto'),\n",
    "('como pode ser tão antipática!','desgosto'),\n",
    "('que horrível seu asqueroso','desgosto'),\n",
    "('tenho aversão agente como você','desgosto'),\n",
    "('isso tudo e só chateação','desgosto'),\n",
    "('estou muito chateada com suas mentiras','desgosto'),\n",
    "('tão desagradável','desgosto'),\n",
    "('isso me desagrada completamente','desgosto'),\n",
    "('te desagrada isso','desgosto'),\n",
    "('estou com enjôos terríveis','desgosto'),\n",
    "('todos estão enfermos','desgosto'),\n",
    "('foi uma enfermidade terrível','desgosto'),\n",
    "('isso e muito grave','desgosto'),\n",
    "('não seja tão grosseiro','desgosto'),\n",
    "('você fez uma manobra ilegal','desgosto'),\n",
    "('sua indecente, não tem vergonha?','desgosto'),\n",
    "('você e malvado com as crianças','desgosto'),\n",
    "('que comentário maldoso','desgosto'),\n",
    "('sem escrúpulos você manipula a tudo','desgosto'),\n",
    "('sinto repulsa por você','desgosto'),\n",
    "('e repulsivo a maneira como olha para as pessoas','desgosto'),\n",
    "('estou indisposta','desgosto'),\n",
    "('a indisposição me atacou hoje','desgosto'),\n",
    "('acho que vou vomitar','desgosto'),\n",
    "('tem muito vomito lá','desgosto'),\n",
    "('que incomodo essa dor','desgosto'),\n",
    "('não me incomode nunca mais','desgosto'),\n",
    "('suas bobagens estão nos incomodando','desgosto'),\n",
    "('que nojo olha toda essa sujeira','desgosto'),\n",
    "('como isso está sujo','desgosto'),\n",
    "('tenho náuseas só de lembrar','desgosto'),\n",
    "('me sinto nauseada com o cheiro desta comida','desgosto'),\n",
    "('você esta obstruindo a passagem de ar','desgosto'),\n",
    "('você esta terrivelmente doente','desgosto'),\n",
    "('olhe que feia esta roupa','desgosto'),\n",
    "('que atitude deplorável','desgosto'),\n",
    "('nossa como você e feio','desgosto'),\n",
    "('muito mau tudo isso','desgosto'),\n",
    "('estou desgostoso com você','desgosto'),\n",
    "('você cortou o meu assunto','desgosto'),\n",
    "('para que tanta chateação?','desgosto'),\n",
    "('esse perfume e enjoativo','desgosto'),\n",
    "('ser perigoso não nada bom','desgosto'),\n",
    "('você e perigoso demais para minha filhas','desgosto'),\n",
    "('que fetido este esgoto','desgosto'),\n",
    "('que fedido você esta','desgosto'),\n",
    "('que cachorro malcheiroso','desgosto'),\n",
    "('hora que ultraje','desgosto'),\n",
    "('e ultrajante da sua parte','desgosto'),\n",
    "('situação desagradável essa','desgosto'),\n",
    "('você só me da desgosto','desgosto'),\n",
    "('tenho aversão a pessoas assim','desgosto'),\n",
    "('antipatia e um mal da sociedade','desgosto'),\n",
    "('que criatura abominável','desgosto'),\n",
    "('e depressiva a maneira como você vê o mundo','desgosto'),\n",
    "('me desagrada sua presença na festa','desgosto'),\n",
    "('sinto asco dessa coisa','desgosto'),\n",
    "('que hediondo!','desgosto'),\n",
    "('vou golfar o cafe fora','desgosto'),\n",
    "('hora que garota detestável!','desgosto'),\n",
    "('estou nauseada','desgosto'),\n",
    "('isso que você disse foi muito grave','desgosto'),\n",
    "('não seja obsceno na frente das crianças','desgosto'),\n",
    "('não seja rude com as visitas','desgosto'),\n",
    "('esse assunto me da repulsa','desgosto'),\n",
    "('que criança terrivelmente travessa','desgosto'),\n",
    "('que criança mal educada','desgosto'),\n",
    "('estou indisposta te dar o divorcio','desgosto'),\n",
    "('tão patetico, não tem nada mais rude para dizer?','desgosto'),\n",
    "('por motivo torpe, com emprego de meio cruel e com impossibilidade de defesa para a vítima','desgosto'),\n",
    "('a inveja e tão vil e vergonhosa que ninguem se atreve a confessá-la','desgosto'),\n",
    "('o miserável receio de ser sentimental e o mais vil de todos os receios modernos','desgosto'),\n",
    "('travesso gato quando fica com saudades do dono mija no sapato','desgosto'),\n",
    "('isso e um ato detestável e covarde','desgosto'),\n",
    "('revelam apenas o que e destrutivo e detestável para o povo','desgosto'),\n",
    "('não sei como e a vida de um patife, mais a de um homem honesto e abominável','desgosto'),\n",
    "('há coisas que temos que suportar para não acharmos a vida insuportável','desgosto'),\n",
    "('as injurias do tempo e as injustiças do homem','desgosto'),\n",
    "('odioso e desumano','desgosto'),\n",
    "('você não publicará conteúdo odiento, pornográfico ou ameaçador','desgosto'),\n",
    "('rancoroso e reprimido','desgosto'),\n",
    "('não há animal mais degradante, estúpido, covarde, lamentável, egoísta, rancoroso e invejoso do que o homem','desgosto'),\n",
    "('o virulento debate ente políticos','desgosto'),\n",
    "\n",
    "\n",
    "('por favor não me abandone','tristeza'),\n",
    "('não quero ficar sozinha','tristeza'),\n",
    "('não me deixe sozinha','tristeza'),\n",
    "('estou abatida','tristeza'),\n",
    "('ele esta todo abatido','tristeza'),\n",
    "('tão triste suas palavras','tristeza'),\n",
    "('seu amor não e mais meu','tristeza'),\n",
    "('estou aborrecida','tristeza'),\n",
    "('isso vai me aborrecer','tristeza'),\n",
    "('estou com muita aflição','tristeza'),\n",
    "('me aflige o modo como fala','tristeza'),\n",
    "('estou em agonia com meu intimo','tristeza'),\n",
    "('não quero fazer nada','tristeza'),\n",
    "('me sinto ansiosa e tensa','tristeza'),\n",
    "('não consigo parar de chorar','tristeza'),\n",
    "('não consigo segurar as lagrimas','tristeza'),\n",
    "('e muita dor perder um ente querido','tristeza'),\n",
    "('estou realmente arrependida','tristeza'),\n",
    "('acho que o carma volta, pois agora sou eu quem sofro','tristeza'),\n",
    "('você não cumpriu suas promessas','tristeza'),\n",
    "('me sinto amargurada','tristeza'),\n",
    "('coitado esta tão triste','tristeza'),\n",
    "('já e tarde de mais','tristeza'),\n",
    "('nosso amor acabou','tristeza'),\n",
    "('essa noite machuca só para mim','tristeza'),\n",
    "('eu não estou mais no seu coração','tristeza'),\n",
    "('você mudou comigo','tristeza'),\n",
    "('quando eu penso em você realmente dói','tristeza'),\n",
    "('como se fosse nada você vê minhas lagrimas','tristeza'),\n",
    "('você disse cruelmente que não se arrependeu','tristeza'),\n",
    "('eu nunca mais vou te ver','tristeza'),\n",
    "('ela esta com depressão','tristeza'),\n",
    "('a depressão aflige as pessoas','tristeza'),\n",
    "('estar depressivo e muito ruim','tristeza'),\n",
    "('estou derrotada e deprimida depois deste dia','tristeza'),\n",
    "('e comovente te ver dessa maneira','tristeza'),\n",
    "('e comovente ver o que os filhos do brasil passam','tristeza'),\n",
    "('como me sinto culpada','tristeza'),\n",
    "('estou abatida','tristeza'),\n",
    "('a ansiedade tomou conta de mim','tristeza'),\n",
    "('as pessoas não gostam do meu jeito','tristeza'),\n",
    "('adeus passamos bons momentos juntos','tristeza'),\n",
    "('sinto sua falta','tristeza'),\n",
    "('ele não gostou da minha comida','tristeza'),\n",
    "('estou sem dinheiro para a comida','tristeza'),\n",
    "('queria que fosse o ultimo dia da minha vida','tristeza'),\n",
    "('você está com vergonha de mim','tristeza'),\n",
    "('ela não aceitou a minha proposta','tristeza'),\n",
    "('era o meu ultimo centavo','tristeza'),\n",
    "('reprovei de ano na faculdade','tristeza'),\n",
    "('afinal você só sabe me desfazer','tristeza'),\n",
    "('eu falhei em tudo nessa vida','tristeza'),\n",
    "('eu fui muito humilhado','tristeza'),\n",
    "('e uma história muito triste','tristeza'),\n",
    "('ninguem acredita em mim','tristeza'),\n",
    "('eu não sirvo para nada mesmo','tristeza'),\n",
    "('droga, não faço nada direito','tristeza'),\n",
    "('sofrimento em dobro na minha vida','tristeza'),\n",
    "('fui demitida essa semana','tristeza'),\n",
    "('as crianças sofrem ainda mais que os adultos','tristeza'),\n",
    "('pra mim um dia e ruim, o outro e pior','tristeza'),\n",
    "('de repente perdi o apetite','tristeza'),\n",
    "('oh que dia infeliz','tristeza'),\n",
    "('estamos afundados em contas','tristeza'),\n",
    "('nem um milagre pode nos salvar','tristeza'),\n",
    "('só me resta a esperança','tristeza'),\n",
    "('pior que isso não pode ficar','tristeza'),\n",
    "('meu salário e baixo','tristeza'),\n",
    "('não passei no vestibular','tristeza'),\n",
    "('ninguem se importa comigo','tristeza'),\n",
    "('ninguem lembrou do meu aniversário','tristeza'),\n",
    "('tenho tanto azar','tristeza'),\n",
    "('o gosto da vingança e amargo','tristeza'),\n",
    "('sou uma mulher amargurada depois de que você me deixou','tristeza'),\n",
    "('estou desanimada com a vida','tristeza'),\n",
    "('e um desanimo só coitadinha','tristeza'),\n",
    "('a derrota e depressiva','tristeza'),\n",
    "('discriminar e desumano','tristeza'),\n",
    "('que desanimo','tristeza'),\n",
    "('e uma desonra para o pais','tristeza'),\n",
    "('a preocupação deveria nos levar a ação não a depressão','tristeza'),\n",
    "('passamos ao desalento e a loucura','tristeza'),\n",
    "('aquele que nunca viu a tristeza nunca reconhecerá a alegria','tristeza'),\n",
    "('cuidado com a tristeza ela e um vicio','tristeza')]\n",
    "\n",
    "baseteste =[\n",
    "('o mundo e feio como o pecado','desgosto'),\n",
    "('a coisa mais difícil de esconder e aquilo que não existe','desgosto'),\n",
    "('você errou feio aquele gol','desgosto'),\n",
    "('nunca vou me casar sou muito feia','desgosto'),\n",
    "('os golpes da adversidade são terrivelmente amargos','desgosto'),\n",
    "('os homem ficam terrivelmente chatos','desgosto'),\n",
    "('abominavelmente convencido','desgosto'),\n",
    "('terrivelmente irritado','desgosto'),\n",
    "('as instituições publicas estão terrivelmente decadentes','desgosto'),\n",
    "('a população viveu em isolamento por muito tempo','desgosto'),\n",
    "('estou terrivelmente preocupada','desgosto'),\n",
    "('o nacionalismo e uma doença infantil','desgosto'),\n",
    "('se me es antipático a minha negação esta pronta','desgosto'),\n",
    "('muitos documentários sobre esse casal antipático','desgosto'),\n",
    "('sua beleza não desfaça sua antipatia','desgosto'),\n",
    "('esta e uma experiência desagradável','desgosto'),\n",
    "('desagradável estrago nos banheiros','desgosto'),\n",
    "('o mais irritante no amor e que se trata de um crime que precisa de um cúmplice','desgosto'),\n",
    "('a situação nos causa grande incomodo','desgosto'),\n",
    "('estou preocupado com o incomodo na garganta','desgosto'),\n",
    "('simplesmente não quero amolação da policia','desgosto'),\n",
    "('você e uma criaturinha muito impertinente','desgosto'),\n",
    "('o peso e a dor da vida','desgosto'),\n",
    "('me arrependo amargamente de minhas ações','desgosto'),\n",
    "('o destino e cruel e os homens não são dignos de compaixão','desgosto'),\n",
    "('o ódio conduz ao isolamento cruel e ao desespero','desgosto'),\n",
    "('encerrou com o massacre mais repudiável e asqueroso que se conhece','desgosto'),\n",
    "('de mal gosto e asqueroso','desgosto'),\n",
    "('tudo e inserto neste mundo hediondo','desgosto'),\n",
    "('o crime de corrupção e um crime hediondo','desgosto'),\n",
    "('o rio esta fetido e de cor escura','desgosto'),\n",
    "('muito lixo no rio o deixa malcheiroso','desgosto'),\n",
    "('existe uma laranja podre no grupo e já desconfiamos quem e','desgosto'),\n",
    "('foi de repente estou machucado e me sentindo enjoado','desgosto'),\n",
    "('eu fiquei enojado','desgosto'),\n",
    "('daqui alguns meses vou embora deste pais que já estou nauseado','desgosto'),\n",
    "\n",
    "\n",
    "('estou triste pelo seu erro','tristeza'),\n",
    "('mataram o garoto, que coisa mais triste','tristeza'),\n",
    "('tenho muito dó do cachorro','tristeza'),\n",
    "('e dolorida a perda de um filho','tristeza'),\n",
    "('essa tragedia vai nos abalar para sempre','tristeza'),\n",
    "('perdi meu cachorro, estou devastado de tristeza','tristeza'),\n",
    "('perdi meu curso, fiquei com depressão','tristeza'),\n",
    "('eu so faço chorar pela casa','tristeza'),\n",
    "('você e um chorão','tristeza'),\n",
    "('fico triste pelo que aconteceu','tristeza'),\n",
    "('a falta de atenção dos alunos, me deixa profundamente triste','tristeza'),\n",
    "('foi uma passagem fúnebre','tristeza'),\n",
    "('nossa condolências e tristeza a sua perda','tristeza'),\n",
    "('a depressão deixa as pessoas tristes','tristeza'),\n",
    "('vivo triste','tristeza'),\n",
    "('estou desanimado com isso','tristeza'),\n",
    "('o imperador romano sofria com tristeza profunda','tristeza'),\n",
    "('meu ser esta em agonia','tristeza'),\n",
    "('este atrito entre nos tem que acabar','tristeza'),\n",
    "('a escuridão desola meu ser','tristeza'),\n",
    "('fico triste por nao se preocupar comigo','tristeza'),\n",
    "('sua falsidade me entristece','tristeza'),\n",
    "('quem esta descontente com os outros esta descontente consigo próprio','tristeza'),\n",
    "('a torcida esta desolada com a demissão do tecnico','tristeza'),\n",
    "('o jornal so traz noticias tristes','tristeza'),\n",
    "('me sinto solitário e entediado','tristeza'),\n",
    "('a vida e solitária para aqueles que não são falsos','tristeza'),\n",
    "('tive depressao depois de uma doença','tristeza'),\n",
    "('estou triste com a vida','tristeza'),\n",
    "('ele me deixa triste, pois desencoraja minhas vontades','tristeza'),\n",
    "('isso vai deprimindo por dentro','tristeza'),\n",
    "('acho que isso e defeituoso','tristeza'),\n",
    "('tomo remedios para acabar com a tristeza','tristeza'),\n",
    "('a depressão vai me derrubar','tristeza'),\n",
    "('suas desculpas são falsas, isso me deixa triste','tristeza'),\n",
    "('não magoe as pessoas','tristeza')]\n"
   ]
  },
  {
   "cell_type": "code",
   "execution_count": 7,
   "metadata": {},
   "outputs": [],
   "source": [
    "stopwordsnltk = nltk.corpus.stopwords.words('portuguese') #Aqui é feito o carregamento das stopwords (o nltk ja dispo~es de varios stopwords)\n",
    "stopwordsnltk.append('vou') #Adição de duas novas stopwords manualmente\n",
    "stopwordsnltk.append('tão')\n",
    "#print(stopwordsnltk)"
   ]
  },
  {
   "cell_type": "code",
   "execution_count": 8,
   "metadata": {},
   "outputs": [],
   "source": [
    "def removerStopwords(texto):\n",
    "    frases = []\n",
    "    for(palavras, emocao) in texto:\n",
    "        semStop = [ p for p in palavras.split() if p not in stopwordsnltk ] #Função que remove as stopwords da base de dados\n",
    "        frases.append((semStop, emocao))\n",
    "    return frases"
   ]
  },
  {
   "cell_type": "code",
   "execution_count": 9,
   "metadata": {},
   "outputs": [],
   "source": [
    "baseCompleta = removerStopwords(basetreinamento) #chamando a função que remove as stopwords passando como parâmetro a base de dados\n",
    "baseCompletaTeste = removerStopwords(baseteste)"
   ]
  },
  {
   "cell_type": "code",
   "execution_count": 10,
   "metadata": {},
   "outputs": [],
   "source": [
    "def aplicarStemmer(texto):\n",
    "    stemmer = nltk.stem.RSLPStemmer()\n",
    "    frasesStemmer = []\n",
    "    for(palavras, emocao) in texto:\n",
    "        constemming=[str(stemmer.stem(p))for p in palavras.split() if p not in stopwordsnltk] #Função que extrai o radical das palavras\n",
    "        frasesStemmer.append((constemming, emocao))\n",
    "    return frasesStemmer"
   ]
  },
  {
   "cell_type": "code",
   "execution_count": 11,
   "metadata": {},
   "outputs": [],
   "source": [
    "frasesComStemming = aplicarStemmer(basetreinamento) #Chamando a função que extrai o radical das palavras\n",
    "frasesComStemmingTeste = aplicarStemmer(baseteste)\n",
    "#print(frasesComStemmingTeste)"
   ]
  },
  {
   "cell_type": "code",
   "execution_count": 12,
   "metadata": {},
   "outputs": [],
   "source": [
    "def buscaPalavras(frases):\n",
    "    todasPalavras = []\n",
    "    for(palavras, emocao) in frases:     #Função responsável por buscar palavras dentro da basee de dados\n",
    "        todasPalavras.extend(palavras)\n",
    "    return todasPalavras"
   ]
  },
  {
   "cell_type": "code",
   "execution_count": 13,
   "metadata": {},
   "outputs": [],
   "source": [
    "palavras = buscaPalavras(frasesComStemming)      #Chamando a função buscar palavras\n",
    "palavrasTeste = buscaPalavras(frasesComStemmingTeste)\n",
    "#print(palavrasTeste)"
   ]
  },
  {
   "cell_type": "code",
   "execution_count": 14,
   "metadata": {},
   "outputs": [],
   "source": [
    "def buscaFrequencia(palavras):\n",
    "    palavras = nltk.FreqDist(palavras)   #Função que retorna a qtd de vezes que uma palavra aparece\n",
    "    return palavras"
   ]
  },
  {
   "cell_type": "code",
   "execution_count": 15,
   "metadata": {},
   "outputs": [],
   "source": [
    "frequencia = buscaFrequencia(palavras)\n",
    "frequenciaTeste = buscaFrequencia(palavrasTeste)  #Chamando a função buscar frequencia\n",
    "#print(frequenciaTeste.most_common(50)) # printar as 50 primeiras palavras"
   ]
  },
  {
   "cell_type": "code",
   "execution_count": 16,
   "metadata": {},
   "outputs": [],
   "source": [
    "def buscaPalavrasUnicas(frequencia):\n",
    "    freq = frequencia.keys()     #Função que retorna as palavras que so apareceram uma vez \n",
    "    return freq"
   ]
  },
  {
   "cell_type": "code",
   "execution_count": 17,
   "metadata": {},
   "outputs": [],
   "source": [
    "palavrasUnicas = buscaPalavrasUnicas(frequencia)\n",
    "palavrasUnicasTeste = buscaPalavrasUnicas(frequenciaTeste) # Chamando a função buscarPalavrasunicas\n",
    "#print(palavrasUnicasTeste)"
   ]
  },
  {
   "cell_type": "code",
   "execution_count": 18,
   "metadata": {},
   "outputs": [],
   "source": [
    "def extratorPalavra(documento):\n",
    "    doc = set(documento)\n",
    "    caracteristicas = {}\n",
    "    for palavras in palavrasUnicas:\n",
    "        caracteristicas['%s' % palavras] = (palavras in doc) #Função que verifica se uma palavra esta de ntro de uma frase e sua ela é true ou false \n",
    "    return caracteristicas"
   ]
  },
  {
   "cell_type": "code",
   "execution_count": 19,
   "metadata": {},
   "outputs": [],
   "source": [
    "caracteristicasFrase = extratorPalavra(['am', 'nov', 'dia'])\n",
    "#print(caracteristicasFrase)"
   ]
  },
  {
   "cell_type": "code",
   "execution_count": 20,
   "metadata": {},
   "outputs": [],
   "source": [
    "baseCompleta = nltk.classify.apply_features(extratorPalavra, frasesComStemming)  #classificando as palavras da base de dados\n",
    "baseCompletaTeste = nltk.classify.apply_features(extratorPalavra, frasesComStemmingTeste)\n",
    "#print(baseCompletaTeste[15])"
   ]
  },
  {
   "cell_type": "code",
   "execution_count": 21,
   "metadata": {},
   "outputs": [
    {
     "name": "stdout",
     "output_type": "stream",
     "text": [
      "['desgosto', 'tristeza']\n",
      "Most Informative Features\n",
      "                 depress = True           triste : desgos =      3.9 : 1.0\n",
      "                    pass = True           triste : desgos =      3.2 : 1.0\n",
      "                  crianç = True           desgos : triste =      2.8 : 1.0\n",
      "                     tod = True           desgos : triste =      2.8 : 1.0\n",
      "                    ning = True           triste : desgos =      2.5 : 1.0\n",
      "                     man = True           desgos : triste =      2.2 : 1.0\n",
      "                     tud = True           desgos : triste =      2.2 : 1.0\n",
      "                     vid = True           triste : desgos =      1.9 : 1.0\n",
      "                     nad = True           triste : desgos =      1.9 : 1.0\n",
      "                     com = True           triste : desgos =      1.8 : 1.0\n",
      "None\n"
     ]
    }
   ],
   "source": [
    "classificador = nltk.NaiveBayesClassifier.train(baseCompleta)\n",
    "print(classificador.labels()) # verifica os labels de classe ( tristeza ou desgosto)\n",
    "print(classificador.show_most_informative_features(10)) # as 10 palavras que mais influenciam na classificação"
   ]
  },
  {
   "cell_type": "code",
   "execution_count": 22,
   "metadata": {},
   "outputs": [
    {
     "name": "stdout",
     "output_type": "stream",
     "text": [
      "0.7916666666666666\n"
     ]
    }
   ],
   "source": [
    "print(nltk.classify.accuracy(classificador, baseCompletaTeste)) #verificando a acurácia do algoritmo"
   ]
  },
  {
   "cell_type": "code",
   "execution_count": 23,
   "metadata": {},
   "outputs": [],
   "source": [
    "def converteFrase(frase):\n",
    "    testeSteeming = []\n",
    "    stemmer = nltk.stem.RSLPStemmer()\n",
    "    for (palavras) in frase.split():       \n",
    "        comStem = [p for p in palavras.split()]\n",
    "        testeSteeming.append(str(stemmer.stem(comStem[0])))\n",
    "    return testeSteeming "
   ]
  },
  {
   "cell_type": "code",
   "execution_count": 24,
   "metadata": {},
   "outputs": [
    {
     "name": "stdout",
     "output_type": "stream",
     "text": [
      "['voc', 'saiu', 'de', 'casa,', 'iss', 'me', 'deix', 'trist']\n"
     ]
    }
   ],
   "source": [
    "frase = 'Voce saiu de casa, isso me deixa triste'\n",
    "fraseNova = converteFrase(frase)\n",
    "print(fraseNova)\n",
    "novo = extratorPalavra(fraseNova)"
   ]
  },
  {
   "cell_type": "code",
   "execution_count": 25,
   "metadata": {},
   "outputs": [
    {
     "name": "stdout",
     "output_type": "stream",
     "text": [
      "Essa é uma frase de tristeza\n",
      "probabilidade de ser frase de desgosto: 0.016614\n",
      "probabilidade de ser frase de tristeza: 0.983386\n"
     ]
    }
   ],
   "source": [
    "print('Essa é uma frase de %s' % (classificador.classify(novo)))\n",
    "distribuicao = classificador.prob_classify(novo)\n",
    "for classe in distribuicao.samples():\n",
    "    print(\"probabilidade de ser frase de %s: %f\" % (classe, distribuicao.prob(classe)))"
   ]
  },
  {
   "cell_type": "code",
   "execution_count": 26,
   "metadata": {},
   "outputs": [],
   "source": [
    "erros = []\n",
    "for(frase, classe) in baseCompletaTeste:\n",
    "    #print(frase)\n",
    "    #print(classe)\n",
    "    resultado = classificador.classify(frase)\n",
    "    if resultado != classe:\n",
    "        erros.append((classe, resultado, frase))\n",
    "#for (classe, resultado, frase) in erros:\n",
    " #   print(classe, resultado, frase)"
   ]
  },
  {
   "cell_type": "code",
   "execution_count": 27,
   "metadata": {},
   "outputs": [
    {
     "name": "stdout",
     "output_type": "stream",
     "text": [
      "         |  d  t |\n",
      "         |  e  r |\n",
      "         |  s  i |\n",
      "         |  g  s |\n",
      "         |  o  t |\n",
      "         |  s  e |\n",
      "         |  t  z |\n",
      "         |  o  a |\n",
      "---------+-------+\n",
      "desgosto |<30> 6 |\n",
      "tristeza |  9<27>|\n",
      "---------+-------+\n",
      "(row = reference; col = test)\n",
      "\n"
     ]
    }
   ],
   "source": [
    "esperado = []\n",
    "previsto = []\n",
    "for (frase, classe) in baseCompletaTeste:\n",
    "    resultado = classificador.classify(frase) # matriz de confusão pra ver a quantidade de acertos e erros\n",
    "    previsto.append(resultado)\n",
    "    esperado.append(classe)\n",
    "\n",
    "matriz = ConfusionMatrix(esperado, previsto)\n",
    "print(matriz)"
   ]
  },
  {
   "cell_type": "code",
   "execution_count": null,
   "metadata": {},
   "outputs": [],
   "source": []
  }
 ],
 "metadata": {
  "kernelspec": {
   "display_name": "Python 3",
   "language": "python",
   "name": "python3"
  },
  "language_info": {
   "codemirror_mode": {
    "name": "ipython",
    "version": 3
   },
   "file_extension": ".py",
   "mimetype": "text/x-python",
   "name": "python",
   "nbconvert_exporter": "python",
   "pygments_lexer": "ipython3",
   "version": "3.7.3"
  }
 },
 "nbformat": 4,
 "nbformat_minor": 2
}
